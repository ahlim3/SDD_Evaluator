{
 "cells": [
  {
   "cell_type": "code",
   "execution_count": 1,
   "id": "a68d6ebb-c0f5-41b7-ba1e-c8dfa6ad25c9",
   "metadata": {},
   "outputs": [],
   "source": [
    "from SDD_Evaluator import SDD_Evaluator\n",
    "#Location of SDD file\n",
    "SDD_path = './Target/0_1.2.sdd'\n",
    "#Line by Line SDD data evaluation output in TSV form\n",
    "TSV_path = './Output.tsv'\n",
    "#Summary of SDD file\n",
    "SDD_SUMMARY = './Particle.txt'"
   ]
  },
  {
   "cell_type": "code",
   "execution_count": 2,
   "id": "bcd001b4-ae8f-43a9-aa31-9abed309e104",
   "metadata": {},
   "outputs": [],
   "source": [
    "#How to Execute the Evaluator\n",
    "SDD_Evaluator(SDD_path, TSV_path, SDD_SUMMARY)"
   ]
  }
 ],
 "metadata": {
  "kernelspec": {
   "display_name": "Python 3 (ipykernel)",
   "language": "python",
   "name": "python3"
  },
  "language_info": {
   "codemirror_mode": {
    "name": "ipython",
    "version": 3
   },
   "file_extension": ".py",
   "mimetype": "text/x-python",
   "name": "python",
   "nbconvert_exporter": "python",
   "pygments_lexer": "ipython3",
   "version": "3.9.12"
  }
 },
 "nbformat": 4,
 "nbformat_minor": 5
}
